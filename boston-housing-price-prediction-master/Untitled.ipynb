{
 "cells": [
  {
   "cell_type": "code",
   "execution_count": 9,
   "metadata": {},
   "outputs": [
    {
     "name": "stdout",
     "output_type": "stream",
     "text": [
      " * Serving Flask app \"__main__\" (lazy loading)\n",
      " * Environment: production\n",
      "   WARNING: This is a development server. Do not use it in a production deployment.\n",
      "   Use a production WSGI server instead.\n",
      " * Debug mode: on\n"
     ]
    },
    {
     "name": "stderr",
     "output_type": "stream",
     "text": [
      " * Running on http://127.0.0.1:5000/ (Press CTRL+C to quit)\n",
      "127.0.0.1 - - [27/Nov/2020 16:52:08] \"\u001b[37mGET / HTTP/1.1\u001b[0m\" 200 -\n",
      "127.0.0.1 - - [27/Nov/2020 16:52:29] \"\u001b[37mPOST /predict HTTP/1.1\u001b[0m\" 200 -\n",
      "127.0.0.1 - - [27/Nov/2020 22:12:56] \"\u001b[31m\u001b[1mGET /predict HTTP/1.1\u001b[0m\" 405 -\n",
      "127.0.0.1 - - [27/Nov/2020 22:13:04] \"\u001b[37mGET / HTTP/1.1\u001b[0m\" 200 -\n",
      "127.0.0.1 - - [27/Nov/2020 23:11:43] \"\u001b[37mGET / HTTP/1.1\u001b[0m\" 200 -\n",
      "127.0.0.1 - - [27/Nov/2020 23:33:17] \"\u001b[37mGET / HTTP/1.1\u001b[0m\" 200 -\n"
     ]
    },
    {
     "name": "stdout",
     "output_type": "stream",
     "text": [
      " * Serving Flask app \"__main__\" (lazy loading)\n",
      " * Environment: production\n",
      "   WARNING: This is a development server. Do not use it in a production deployment.\n",
      "   Use a production WSGI server instead.\n",
      " * Debug mode: on\n"
     ]
    },
    {
     "name": "stderr",
     "output_type": "stream",
     "text": [
      " * Restarting with windowsapi reloader\n"
     ]
    },
    {
     "ename": "SystemExit",
     "evalue": "1",
     "output_type": "error",
     "traceback": [
      "An exception has occurred, use %tb to see the full traceback.\n",
      "\u001b[1;31mSystemExit\u001b[0m\u001b[1;31m:\u001b[0m 1\n"
     ]
    }
   ],
   "source": [
    "import pickle\n",
    "import flask\n",
    "#import json\n",
    "import numpy as np\n",
    "import pandas as pd\n",
    "import xgboost\n",
    "from flask import Flask, render_template, request\n",
    "from xgboost import XGBRegressor\n",
    "\n",
    "app = Flask(__name__)\n",
    "\n",
    "@app.route(\"/\")\n",
    "@app.route(\"/AmesHousingIndexindex\")\n",
    "def index():\n",
    "    return flask.render_template('AmesHousingIndex.html')\n",
    "\n",
    "@app.route(\"/predict\",methods = ['POST'])\n",
    "def make_predictions():\n",
    "    if request.method == 'POST':\n",
    "        a = request.form.get('GarageCars')\n",
    "        b = request.form.get('OverallQual')\n",
    "        c = request.form.get('FullBath')\n",
    "        d = request.form.get('ExterQual')\n",
    "        e = request.form.get('GrLivArea')\n",
    "        f = request.form.get('BsmtQual')\n",
    "        g = request.form.get('KitchenQual')\n",
    "        h = request.form.get('TotRmsAbvGrd')\n",
    "        i = request.form.get('TotalBsmtSF')\n",
    "        j = request.form.get('CentralAir')\n",
    "        k = request.form.get('KitchenAbvGr')\n",
    "        \n",
    "       \n",
    "        X = np.array([[a,b,c,d,e,f,g,h,i,j,k]])\n",
    "\n",
    "        pred = loaded_model.predict(X)\n",
    "        return flask.render_template('predictPage.html' , response = pred[0])\n",
    "\n",
    "        \n",
    "if __name__ == '__main__':\n",
    "    app.run(debug=True, use_reloader=False)\n",
    "    loaded_model = pickle.load(open(\"model.dat\", \"rb\"))\n",
    "    #app.run(host='0.0.0.0', port=8001, debug=True)\n",
    "    app.run(host='127.0.0.1', port=5000, debug=True)"
   ]
  },
  {
   "cell_type": "code",
   "execution_count": 2,
   "metadata": {},
   "outputs": [
    {
     "data": {
      "text/plain": [
       "XGBRegressor(base_score=0.5, booster='gbtree', colsample_bylevel=1,\n",
       "             colsample_bynode=1, colsample_bytree=0.7, gamma=0.0, gpu_id=-1,\n",
       "             importance_type='gain', interaction_constraints='',\n",
       "             learning_rate=0.03, max_delta_step=0, max_depth=3,\n",
       "             min_child_weight=1, missing=nan, monotone_constraints='()',\n",
       "             n_estimators=250, n_jobs=4, nthread=4, num_parallel_tree=1,\n",
       "             random_state=0, reg_alpha=0, reg_lambda=1, scale_pos_weight=1,\n",
       "             subsample=0.7, tree_method='exact', validate_parameters=1,\n",
       "             verbosity=None)"
      ]
     },
     "execution_count": 2,
     "metadata": {},
     "output_type": "execute_result"
    }
   ],
   "source": [
    "loaded_model"
   ]
  },
  {
   "cell_type": "code",
   "execution_count": 11,
   "metadata": {},
   "outputs": [
    {
     "name": "stdout",
     "output_type": "stream",
     "text": [
      "Note: you may need to restart the kernel to use updated packages.\n"
     ]
    }
   ],
   "source": [
    "pip freeze > requirements.txt"
   ]
  },
  {
   "cell_type": "code",
   "execution_count": 8,
   "metadata": {},
   "outputs": [
    {
     "ename": "NameError",
     "evalue": "name 'dump' is not defined",
     "output_type": "error",
     "traceback": [
      "\u001b[1;31m---------------------------------------------------------------------------\u001b[0m",
      "\u001b[1;31mNameError\u001b[0m                                 Traceback (most recent call last)",
      "\u001b[1;32m<ipython-input-8-d767129286b5>\u001b[0m in \u001b[0;36m<module>\u001b[1;34m\u001b[0m\n\u001b[1;32m----> 1\u001b[1;33m \u001b[0mdump\u001b[0m\u001b[1;33m(\u001b[0m\u001b[0mX\u001b[0m\u001b[1;33m)\u001b[0m\u001b[1;33m\u001b[0m\u001b[1;33m\u001b[0m\u001b[0m\n\u001b[0m",
      "\u001b[1;31mNameError\u001b[0m: name 'dump' is not defined"
     ]
    }
   ],
   "source": [
    "dump(X)"
   ]
  },
  {
   "cell_type": "code",
   "execution_count": null,
   "metadata": {},
   "outputs": [],
   "source": [
    "a =1\n",
    "b =2\n",
    "c =3\n",
    "d =4\n",
    "e =5\n",
    "f =6\n",
    "g =7\n",
    "h =8\n",
    "i =9\n",
    "j =10\n",
    "k =11\n",
    "\n",
    "       \n",
    "X = pd.DataFrame({'GarageCars': [a],\n",
    "                  'OverallQual': [b],\n",
    "                  'FullBath': [c],\n",
    "                  'ExterQual': [d],\n",
    "                  'GrLivArea': [e],\n",
    "                  'BsmtQual': [f],\n",
    "                  'KitchenQual': [g],\n",
    "                  'TotRmsAbvGrd': [h],\n",
    "                  'TotalBsmtSF': [i],\n",
    "                  'CentralAir': [j],\n",
    "                  'KitchenAbvGr': [k]\n",
    "                 })"
   ]
  },
  {
   "cell_type": "code",
   "execution_count": null,
   "metadata": {},
   "outputs": [],
   "source": [
    "X"
   ]
  },
  {
   "cell_type": "code",
   "execution_count": null,
   "metadata": {},
   "outputs": [],
   "source": [
    "        X = pd.DataFrame({'GarageCars': [a],\n",
    "          'OverallQual': [b],\n",
    "          'FullBath': [c],\n",
    "          'ExterQual': [d],\n",
    "          'GrLivArea': [e],\n",
    "          'BsmtQual': [f],\n",
    "          'KitchenQual': [g],\n",
    "          'TotRmsAbvGrd': [h],\n",
    "          'TotalBsmtSF': [i],\n",
    "          'CentralAir': [j],\n",
    "          'KitchenAbvGr': [k]\n",
    "           })\n",
    "   "
   ]
  }
 ],
 "metadata": {
  "kernelspec": {
   "display_name": "Python 3.7.3 64-bit",
   "language": "python",
   "name": "python37364bit0f7c878ca6dd4aed9bad3fa6ec6c44e1"
  },
  "language_info": {
   "codemirror_mode": {
    "name": "ipython",
    "version": 3
   },
   "file_extension": ".py",
   "mimetype": "text/x-python",
   "name": "python",
   "nbconvert_exporter": "python",
   "pygments_lexer": "ipython3",
   "version": "3.7.3"
  }
 },
 "nbformat": 4,
 "nbformat_minor": 4
}
