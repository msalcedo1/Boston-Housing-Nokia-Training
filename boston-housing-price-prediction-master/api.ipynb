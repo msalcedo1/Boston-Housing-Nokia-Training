{
 "cells": [
  {
   "cell_type": "code",
   "execution_count": 1,
   "metadata": {},
   "outputs": [
    {
     "name": "stdout",
     "output_type": "stream",
     "text": [
      " * Serving Flask app \"__main__\" (lazy loading)\n",
      " * Environment: production\n",
      "   WARNING: This is a development server. Do not use it in a production deployment.\n",
      "   Use a production WSGI server instead.\n",
      " * Debug mode: on\n"
     ]
    },
    {
     "name": "stderr",
     "output_type": "stream",
     "text": [
      " * Running on http://127.0.0.1:5000/ (Press CTRL+C to quit)\n",
      "127.0.0.1 - - [29/Nov/2020 21:52:45] \"\u001b[37mGET / HTTP/1.1\u001b[0m\" 200 -\n",
      "127.0.0.1 - - [29/Nov/2020 21:53:03] \"\u001b[37mPOST /predict HTTP/1.1\u001b[0m\" 200 -\n"
     ]
    }
   ],
   "source": [
    "import pickle\n",
    "import flask\n",
    "import numpy as np\n",
    "import pandas as pd\n",
    "import xgboost\n",
    "from flask import Flask, render_template, request\n",
    "from xgboost import XGBRegressor\n",
    "\n",
    "app = Flask(__name__)\n",
    "\n",
    "def init():\n",
    "    global loaded_model\n",
    "    loaded_model = pickle.load(open(\"model.dat\", \"rb\"))\n",
    "\n",
    "@app.route(\"/\")\n",
    "@app.route(\"/AmesHousingIndexindex\")\n",
    "def index():\n",
    "    return flask.render_template('AmesHousingIndex.html')\n",
    "\n",
    "@app.route(\"/predict\",methods = ['POST'])\n",
    "def make_predictions():\n",
    "    if request.method == 'POST':\n",
    "        a = request.form.get('GarageCars')\n",
    "        b = request.form.get('OverallQual')\n",
    "        c = request.form.get('FullBath')\n",
    "        d = request.form.get('ExterQual')\n",
    "        e = request.form.get('GrLivArea')\n",
    "        f = request.form.get('BsmtQual')\n",
    "        g = request.form.get('KitchenQual')\n",
    "        h = request.form.get('TotRmsAbvGrd')\n",
    "        i = request.form.get('TotalBsmtSF')\n",
    "        j = request.form.get('CentralAir')\n",
    "        k = request.form.get('KitchenAbvGr')\n",
    "        \n",
    "       \n",
    "        X = np.array([[a,b,c,d,e,f,g,h,i,j,k]])\n",
    "\n",
    "        pred = loaded_model.predict(X)\n",
    "        return flask.render_template('predictPage.html' , response = pred[0])\n",
    "\n",
    "        \n",
    "if __name__ == '__main__':\n",
    "    init()\n",
    "    app.run(host='127.0.0.1', port=5000, debug=True, use_reloader=False)"
   ]
  },
  {
   "cell_type": "code",
   "execution_count": null,
   "metadata": {},
   "outputs": [],
   "source": [
    "loaded_model"
   ]
  },
  {
   "cell_type": "code",
   "execution_count": null,
   "metadata": {},
   "outputs": [],
   "source": [
    "# -*- coding: utf-8 -*-\n",
    "\"\"\"\n",
    "@author: anantSinghCross\n",
    "\"\"\"\n",
    "import flask\n",
    "import pickle\n",
    "#import json\n",
    "import numpy as np\n",
    "import pandas as pd\n",
    "import xgboost\n",
    "#from sklearn.externals import joblib\n",
    "from flask import Flask, render_template, request\n",
    "#from keras.models import model_from_json\n",
    "from xgboost import XGBRegressor\n",
    "\n",
    "\n",
    "app = Flask(__name__)\n",
    "\n",
    "@app.route(\"/\")\n",
    "@app.route(\"/AmesHousingIndexindex\")\n",
    "def index():\n",
    "\treturn flask.render_template('AmesHousingIndex.html')\n",
    "\n",
    "@app.route(\"/predict\",methods = ['POST'])\n",
    "def make_predictions():\n",
    "    if request.method == 'POST':\n",
    "        a = request.form.get('GarageCars')\n",
    "        b = request.form.get('OverallQual')\n",
    "        c = request.form.get('FullBath')\n",
    "        d = request.form.get('ExterQual')\n",
    "        e = request.form.get('GrLivArea')\n",
    "        f = request.form.get('BsmtQual')\n",
    "        g = request.form.get('KitchenQual')\n",
    "        h = request.form.get('TotRmsAbvGrd')\n",
    "        i = request.form.get('TotalBsmtSF')\n",
    "        j = request.form.get('CentralAir')\n",
    "        k = request.form.get('KitchenAbvGr')\n",
    "\n",
    "        X = np.array([[a,b,c,d,e,f,g,h,i,j,k]])\n",
    "\n",
    "\n",
    "        pred = loaded_model.predict(X)\n",
    "        return flask.render_template('predictPage.html' , response = pred[0])\n",
    "        \n",
    "        \n",
    "if __name__ == '__main__':\n",
    "    #json_file = open(\"model.json\",\"r\")\n",
    "    app.run(debug=True, use_reloader=False)\n",
    "    loaded_model = pickle.load(open(\"model.dat\", \"rb\"))\n",
    "    #loaded_model_json = json_file.read()\n",
    "    #json_file.close()\n",
    "    #loaded_model = model_from_json(loaded_model_json)\n",
    "    #loaded_model.load_weights(\"model.h5\")\n",
    "\n",
    "    app.run(host='127.0.0.1', port=5000, debug=True)\n"
   ]
  },
  {
   "cell_type": "code",
   "execution_count": null,
   "metadata": {},
   "outputs": [],
   "source": [
    "Hi Paulo. I uploaded exercise 1 of week 6 files. I also included a power point explaining the changes I made in the code of the given example. Basically I used XGBRegressor as the prediction algorithm, therefore some changes were made due to some problems when saving and loading the model using this algorithm. I also included the commands used to transfer the files from my local PC to the remote VM.\n"
   ]
  }
 ],
 "metadata": {
  "kernelspec": {
   "display_name": "Python 3.7.3 64-bit",
   "language": "python",
   "name": "python37364bit0f7c878ca6dd4aed9bad3fa6ec6c44e1"
  },
  "language_info": {
   "codemirror_mode": {
    "name": "ipython",
    "version": 3
   },
   "file_extension": ".py",
   "mimetype": "text/x-python",
   "name": "python",
   "nbconvert_exporter": "python",
   "pygments_lexer": "ipython3",
   "version": "3.7.3"
  }
 },
 "nbformat": 4,
 "nbformat_minor": 4
}
